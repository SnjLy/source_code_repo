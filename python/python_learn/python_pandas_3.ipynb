{
 "cells": [
  {
   "cell_type": "code",
   "execution_count": null,
   "metadata": {},
   "outputs": [],
   "source": [
    "import pandas as pd\n",
    "import numpy as np\n",
    "#coding=utf-8"
   ]
  },
  {
   "cell_type": "code",
   "execution_count": 7,
   "metadata": {},
   "outputs": [],
   "source": [
    "df = pd.read_excel(\"/Users/yehao/Desktop/user.xls\",header=0, encoding='ISO-8859-1')\n",
    "#df"
   ]
  },
  {
   "cell_type": "code",
   "execution_count": 10,
   "metadata": {},
   "outputs": [
    {
     "data": {
      "text/plain": [
       "Index([u'userId', u'number', u'code', u'value'], dtype='object')"
      ]
     },
     "execution_count": 10,
     "metadata": {},
     "output_type": "execute_result"
    }
   ],
   "source": [
    "columns = df.columns\n",
    "index = df.index\n",
    "#index\n",
    "columns"
   ]
  },
  {
   "cell_type": "code",
   "execution_count": 13,
   "metadata": {},
   "outputs": [
    {
     "data": {
      "text/html": [
       "<div>\n",
       "<style scoped>\n",
       "    .dataframe tbody tr th:only-of-type {\n",
       "        vertical-align: middle;\n",
       "    }\n",
       "\n",
       "    .dataframe tbody tr th {\n",
       "        vertical-align: top;\n",
       "    }\n",
       "\n",
       "    .dataframe thead th {\n",
       "        text-align: right;\n",
       "    }\n",
       "</style>\n",
       "<table border=\"1\" class=\"dataframe\">\n",
       "  <thead>\n",
       "    <tr style=\"text-align: right;\">\n",
       "      <th></th>\n",
       "      <th>userId</th>\n",
       "      <th>number</th>\n",
       "      <th>code</th>\n",
       "      <th>value</th>\n",
       "    </tr>\n",
       "  </thead>\n",
       "  <tbody>\n",
       "    <tr>\n",
       "      <th>0</th>\n",
       "      <td>0001181fb5de49b2825373adc88e93bd</td>\n",
       "      <td>1</td>\n",
       "      <td>a1</td>\n",
       "      <td>0.627432</td>\n",
       "    </tr>\n",
       "    <tr>\n",
       "      <th>1</th>\n",
       "      <td>00017f1da43040c58621d51c2bc0c642</td>\n",
       "      <td>2</td>\n",
       "      <td>a2</td>\n",
       "      <td>0.390185</td>\n",
       "    </tr>\n",
       "    <tr>\n",
       "      <th>2</th>\n",
       "      <td>0001e35b16e042da9f3288a8775e861f</td>\n",
       "      <td>3</td>\n",
       "      <td>a3</td>\n",
       "      <td>0.234221</td>\n",
       "    </tr>\n",
       "    <tr>\n",
       "      <th>3</th>\n",
       "      <td>000283447df14b759f642da8782e9e55</td>\n",
       "      <td>4</td>\n",
       "      <td>a4</td>\n",
       "      <td>0.227121</td>\n",
       "    </tr>\n",
       "    <tr>\n",
       "      <th>4</th>\n",
       "      <td>0002bcf1f0084c6db299e2744a0dc4cc</td>\n",
       "      <td>5</td>\n",
       "      <td>a5</td>\n",
       "      <td>0.884254</td>\n",
       "    </tr>\n",
       "  </tbody>\n",
       "</table>\n",
       "</div>"
      ],
      "text/plain": [
       "                             userId  number code     value\n",
       "0  0001181fb5de49b2825373adc88e93bd       1   a1  0.627432\n",
       "1  00017f1da43040c58621d51c2bc0c642       2   a2  0.390185\n",
       "2  0001e35b16e042da9f3288a8775e861f       3   a3  0.234221\n",
       "3  000283447df14b759f642da8782e9e55       4   a4  0.227121\n",
       "4  0002bcf1f0084c6db299e2744a0dc4cc       5   a5  0.884254"
      ]
     },
     "execution_count": 13,
     "metadata": {},
     "output_type": "execute_result"
    }
   ],
   "source": [
    "head5 = df.head(5)\n",
    "head5"
   ]
  },
  {
   "cell_type": "code",
   "execution_count": 19,
   "metadata": {},
   "outputs": [
    {
     "data": {
      "text/html": [
       "<div>\n",
       "<style scoped>\n",
       "    .dataframe tbody tr th:only-of-type {\n",
       "        vertical-align: middle;\n",
       "    }\n",
       "\n",
       "    .dataframe tbody tr th {\n",
       "        vertical-align: top;\n",
       "    }\n",
       "\n",
       "    .dataframe thead th {\n",
       "        text-align: right;\n",
       "    }\n",
       "</style>\n",
       "<table border=\"1\" class=\"dataframe\">\n",
       "  <thead>\n",
       "    <tr style=\"text-align: right;\">\n",
       "      <th></th>\n",
       "      <th>userId</th>\n",
       "      <th>code</th>\n",
       "      <th>value</th>\n",
       "    </tr>\n",
       "  </thead>\n",
       "  <tbody>\n",
       "    <tr>\n",
       "      <th>0</th>\n",
       "      <td>0001181fb5de49b2825373adc88e93bd</td>\n",
       "      <td>a1</td>\n",
       "      <td>0.627432</td>\n",
       "    </tr>\n",
       "    <tr>\n",
       "      <th>1</th>\n",
       "      <td>00017f1da43040c58621d51c2bc0c642</td>\n",
       "      <td>a2</td>\n",
       "      <td>0.390185</td>\n",
       "    </tr>\n",
       "    <tr>\n",
       "      <th>2</th>\n",
       "      <td>0001e35b16e042da9f3288a8775e861f</td>\n",
       "      <td>a3</td>\n",
       "      <td>0.234221</td>\n",
       "    </tr>\n",
       "    <tr>\n",
       "      <th>3</th>\n",
       "      <td>000283447df14b759f642da8782e9e55</td>\n",
       "      <td>a4</td>\n",
       "      <td>0.227121</td>\n",
       "    </tr>\n",
       "    <tr>\n",
       "      <th>4</th>\n",
       "      <td>0002bcf1f0084c6db299e2744a0dc4cc</td>\n",
       "      <td>a5</td>\n",
       "      <td>0.884254</td>\n",
       "    </tr>\n",
       "  </tbody>\n",
       "</table>\n",
       "</div>"
      ],
      "text/plain": [
       "                             userId code     value\n",
       "0  0001181fb5de49b2825373adc88e93bd   a1  0.627432\n",
       "1  00017f1da43040c58621d51c2bc0c642   a2  0.390185\n",
       "2  0001e35b16e042da9f3288a8775e861f   a3  0.234221\n",
       "3  000283447df14b759f642da8782e9e55   a4  0.227121\n",
       "4  0002bcf1f0084c6db299e2744a0dc4cc   a5  0.884254"
      ]
     },
     "execution_count": 19,
     "metadata": {},
     "output_type": "execute_result"
    }
   ],
   "source": [
    "#head5.pop(\"number\")  #弹出一列数据\n",
    "head5"
   ]
  },
  {
   "cell_type": "code",
   "execution_count": null,
   "metadata": {},
   "outputs": [],
   "source": [
    ""
   ]
  }
 ],
 "metadata": {
  "kernelspec": {
   "display_name": "Python 2",
   "language": "python",
   "name": "python2"
  },
  "language_info": {
   "codemirror_mode": {
    "name": "ipython",
    "version": 2.0
   },
   "file_extension": ".py",
   "mimetype": "text/x-python",
   "name": "python",
   "nbconvert_exporter": "python",
   "pygments_lexer": "ipython2",
   "version": "2.7.10"
  }
 },
 "nbformat": 4,
 "nbformat_minor": 0
}