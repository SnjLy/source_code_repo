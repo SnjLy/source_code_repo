{
 "cells": [
  {
   "cell_type": "code",
   "execution_count": 9,
   "metadata": {},
   "outputs": [],
   "source": [
    "import pandas as pd;\n",
    "import numpy as np;\n",
    "import sys;\n",
    "# -*- coding: UTF-8 -*-\n",
    "\n",
    "reload(sys);\n",
    "sys.setdefaultencoding('utf8')\n"
   ]
  },
  {
   "cell_type": "code",
   "execution_count": 10,
   "metadata": {},
   "outputs": [],
   "source": [
    "filePath=\"/Users/yehao/Desktop/artisan_district2.xlsx\";\n",
    "print filePath;\n",
    "df = pd.read_excel(filePath,header=None, skiprows = [0,1],encoding = 'utf8');\n",
    "it = df.iloc[1];\n",
    "print it[0];"
   ]
  },
  {
   "cell_type": "code",
   "execution_count": 11,
   "metadata": {},
   "outputs": [],
   "source": [
    "# for index, row in df.iterrows():\n",
    "#     print row[0].replace(\"#2\",\"\");\n",
    "def valuation_formula(x):\n",
    "    return x.replace(\"#2\",\"\");\n",
    "\n",
    "new_df = df.apply(lambda row: valuation_formula(row[0]), axis=1);"
   ]
  },
  {
   "cell_type": "code",
   "execution_count": 12,
   "metadata": {},
   "outputs": [],
   "source": [
    "print new_df.iloc[1];"
   ]
  },
  {
   "cell_type": "code",
   "execution_count": 13,
   "metadata": {},
   "outputs": [],
   "source": [
    "import MySQLdb;\n",
    "\n",
    "\n",
    "def opt_mysql(sql):\n",
    "    # 打开数据库连接\n",
    "    db = MySQLdb.connect(\"localhost\", \"root\", \"yehao123456\", \"yehao_test\", charset='utf8' );\n",
    "    \n",
    "    # 使用cursor()方法获取操作游标 \n",
    "    cursor = db.cursor()\n",
    "   \n",
    "    # SQL 插入语句\n",
    "      \n",
    "    try:\n",
    "       # 执行sql语句\n",
    "        print sql;\n",
    "        cursor.execute(sql)\n",
    "        # 提交到数据库执行\n",
    "        db.commit()\n",
    "    except:\n",
    "        # Rollback in case there is any error\n",
    "        db.rollback()\n",
    "    # 关闭数据库连接\n",
    "    db.close();\n",
    "    \n",
    "\n",
    "    "
   ]
  },
  {
   "cell_type": "code",
   "execution_count": 14,
   "metadata": {},
   "outputs": [],
   "source": [
    "# print len(df);\n",
    "# print type(new_df)\n",
    "# print new_df\n",
    "\n",
    "### 重新设置列名建立列索引\n",
    "df.columns=['artisanId', 'latitude', 'longitude', 'address']\n",
    "# print df['artisanId']\n",
    "\n",
    "### 指定行索引数据\n",
    "seriel1 = df.iloc[0]\n",
    "print type(seriel1[0]), type(seriel1[1]), type(seriel1[2])\n",
    "\n",
    "# print type(seriel1['latitude'])\n",
    "\n"
   ]
  },
  {
   "cell_type": "code",
   "execution_count": 15,
   "metadata": {},
   "outputs": [
    {
     "data": {
      "text/plain": [
       "0                                      江苏省南京市秦虹路213号莺虹苑小区\n",
       "1                                     北京市朝阳区崔各庄镇丽苑小区马泉营1区\n",
       "2                                          北京市阜成路8号阜成路8号院\n",
       "3                                   广东省广州市天河区黄村街道黄村东路126号\n",
       "4       上海市浦东南码头路240弄、南码头路260弄、沂南路42弄、沂南路38-40号、44-48号...\n",
       "5                                               北京市卢沟桥莲香园\n",
       "6                                            北京市来广营善各庄周转房\n",
       "7                                            北京市卢沟桥路五里店南里\n",
       "8                                 北京市丰台东路西南三环夏家胡同纪家庙育菲园东里\n",
       "9                                           北京市垡头村垡头南里六号院\n",
       "10                                             重庆市巴南区鱼洞街道\n",
       "11                                  陕西省西安市鱼斗路158号复地优尚国际一期\n",
       "12                                  重庆市龙溪街道红黄路441号正升·青青丽苑\n",
       "13                                  北京市垡头东路285号北京市银明光学眼镜厂\n",
       "14                                     上海市漕溪路125弄1-16号金谷园\n",
       "15                                      天津市程盛道与雪山路交汇处好美嘉园\n",
       "16                               上海市闵行区新虹街道申昆路1899号星月虹桥中心\n",
       "17                              北京市大兴黄村镇兴丰大街大兴中医院对面清源西里小区\n",
       "18                                      湖北省武汉市工业四路19号欣城社区\n",
       "19                                       北京市广渠路21号金海国际-南区\n",
       "20                                        上海市苏家浜路435弄宝顾佳苑\n",
       "21                                          上海市通和新村通河一村小区\n",
       "22                                      上海市中山南二路1007号中煌大厦\n",
       "23                            北京市朝阳北路与金榆路交汇处邓家窑通达四惠家居建材广场\n",
       "24                            重庆市九龙坡杨家坪黄杨路102号(黄沙溪立交旁)盛美居\n",
       "25                                      北京市东辛店中街北150米鑫盛公寓\n",
       "26                                    上海市双单路718弄1-10号永盛公寓\n",
       "27                                        山东省临沂市思源路附近锦城花园\n",
       "28                          浙江省杭州市登云路518号西城时代商务中心1幢1层元都酒店\n",
       "29                                     北京市石景山区广宁街道麻峪南街49号\n",
       "                              ...                        \n",
       "5473                                   北京市朝阳门外大街乙6号朝外SOHO\n",
       "5474                              上海市灵山路2000弄1-39号金杨新村六街坊\n",
       "5475                                   北京市丰台区卢沟桥街道大成路天泰大厦\n",
       "5476                                  浙江省杭州市北沙西路150号东厦·东港\n",
       "5477                                北京市南四环十八里店南桥吕家营中街宜家佳苑\n",
       "5478                                湖北省武汉市江汉区汉兴街街道长港路212号\n",
       "5479                              四川省成都市龙灯山路一段381号晋元·鸿阁1号\n",
       "5480                                 北京市金台路十字路口的东南方向延静里小区\n",
       "5481                            北京市西城区椿树街道北京粤财大厦庄胜广场中央办公楼\n",
       "5482                               广东省广州市白云区黄石街道江夏大塘大街98号\n",
       "5483                              广东省广州市白云区太和镇黄庄南路85号高领大厦\n",
       "5484                           浙江省杭州市新街镇红山大道与垦辉六路交叉口重汽嘉泽苑\n",
       "5485                                         广东省深圳市龙华区滙龙苑\n",
       "5486                                         湖北省襄阳市宜城市小河镇\n",
       "5487                                 广东省广州市海珠区南洲街道南洲路316号\n",
       "5488                                     北京市定福庄东街5号楼定福庄东街\n",
       "5489                                 湖北省武汉市蔡甸区沌阳街道蔡家花园还建楼\n",
       "5490                                 北京市朝阳区崔各庄镇东辛店中街yoyo号\n",
       "5491                                 上海市虹口长春路158弄1-7号虹叶花苑\n",
       "5492                                      上海市七宝镇联明村联盛花苑北区\n",
       "5493                            广东省深圳市宝安区西乡街道固戍二路115号间头新村\n",
       "5494                                    广东省深圳市民治大道民德路南景新村\n",
       "5495                                    北京市顺义区旺泉街道顺于路西辛南区\n",
       "5496                                     北京市后沙峪裕民大街三山新新家园\n",
       "5497                                        北京市宋庄路11号天怡晴园\n",
       "5498                                   浙江省杭州市万塘路588号古荡湾新村\n",
       "5499                             江苏省南京市文体路与集庆门大街交汇处东升沿一小区\n",
       "5500                             上海市浦东新区东明路街道华夏西路锦翠苑(上浦路)\n",
       "5501                    北京市朝阳区东坝镇北京市朝阳区东坝地区单店社区卫生服务站金隅悦和园\n",
       "5502                                  北京市朝阳区崔各庄镇东辛店中街160号\n",
       "Name: address, Length: 5503, dtype: object"
      ]
     },
     "execution_count": 15,
     "metadata": {},
     "output_type": "execute_result"
    }
   ],
   "source": [
    "# sql = 'INSERT INTO artisan_address(artisan_id,latitude, longitude, address) values'\n",
    "# for index, row in df.iterrows(): \n",
    "#     s = sql + '(\"'+ str(row[0]).replace('#2', '') + '\",'+ str(row[1]) + ','+ str(row[2]) +',\"' + row[3] +'\");'\n",
    "#     print s\n",
    "\n",
    "##### 填充\n",
    "df['address'].fillna(\"暂无\")\n",
    "# print df['address'].isnull;"
   ]
  },
  {
   "cell_type": "code",
   "execution_count": 16,
   "metadata": {},
   "outputs": [
    {
     "ename": "NameError",
     "evalue": "name 'fileNamen' is not defined",
     "output_type": "error",
     "traceback": [
      "\u001b[0;31m---------------------------------------------------------------------------\u001b[0m",
      "\u001b[0;31mNameError\u001b[0m                                 Traceback (most recent call last)",
      "\u001b[0;32m<ipython-input-16-caf89c2a30d3>\u001b[0m in \u001b[0;36m<module>\u001b[0;34m()\u001b[0m\n\u001b[1;32m     16\u001b[0m \u001b[0;34m\u001b[0m\u001b[0m\n\u001b[1;32m     17\u001b[0m \u001b[0;32mif\u001b[0m \u001b[0;32mnot\u001b[0m \u001b[0mfileName\u001b[0m\u001b[0;34m.\u001b[0m\u001b[0mclosed\u001b[0m\u001b[0;34m:\u001b[0m\u001b[0;34m\u001b[0m\u001b[0m\n\u001b[0;32m---> 18\u001b[0;31m     \u001b[0mfileNamen\u001b[0m\u001b[0;34m.\u001b[0m\u001b[0mclose\u001b[0m\u001b[0;34m(\u001b[0m\u001b[0;34m)\u001b[0m\u001b[0;34m\u001b[0m\u001b[0m\n\u001b[0m\u001b[1;32m     19\u001b[0m \u001b[0;32mprint\u001b[0m \u001b[0;34m\"写入文件结束sql\"\u001b[0m\u001b[0;34m\u001b[0m\u001b[0m\n",
      "\u001b[0;31mNameError\u001b[0m: name 'fileNamen' is not defined"
     ]
    }
   ],
   "source": [
    "### 打印sql\n",
    "fileName = open(\"artisan_district_sql.sql\", \"w\")\n",
    "sql = 'INSERT INTO artisan_district(artisan_id,latitude, longitude, address) values'\n",
    "for i in range(0, len(df)):\n",
    "    if df.iloc[i][3] is None or df.iloc[i][3]== '':\n",
    "        print df.iloc[i]\n",
    "    else:  \n",
    "        s = '(\"'+ str(df.iloc[i][0]).replace('#2', '') + '\",'+ str(df.iloc[i][1]) + ','+ str(df.iloc[i][2]) +',\"' + df.iloc[i][3] +'\");'\n",
    "        try:\n",
    "            print s\n",
    "            fileName.write(sql+ s)\n",
    "        except IOError:\n",
    "            print IOError\n",
    "            fileName.close()\n",
    "            \n",
    "\n",
    "if not fileName.closed:\n",
    "    fileName.close()\n",
    "print \"写入文件结束sql\""
   ]
  },
  {
   "cell_type": "code",
   "execution_count": null,
   "metadata": {},
   "outputs": [],
   "source": []
  },
  {
   "cell_type": "code",
   "execution_count": null,
   "metadata": {},
   "outputs": [],
   "source": []
  }
 ],
 "metadata": {
  "kernelspec": {
   "display_name": "Python 2",
   "language": "python",
   "name": "python2"
  },
  "language_info": {
   "codemirror_mode": {
    "name": "ipython",
    "version": 2
   },
   "file_extension": ".py",
   "mimetype": "text/x-python",
   "name": "python",
   "nbconvert_exporter": "python",
   "pygments_lexer": "ipython2",
   "version": "2.7.10"
  }
 },
 "nbformat": 4,
 "nbformat_minor": 1
}
