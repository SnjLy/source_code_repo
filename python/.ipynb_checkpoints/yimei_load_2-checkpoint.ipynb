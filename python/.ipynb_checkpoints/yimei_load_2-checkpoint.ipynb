{
 "cells": [
  {
   "cell_type": "code",
   "execution_count": 1,
   "metadata": {},
   "outputs": [],
   "source": [
    "# /usr/local/python\n",
    "# -*- coding: utf-8 -*-\n",
    "\n",
    "import sys\n",
    "import time\n",
    "\n",
    "import xlrd\n",
    "\n",
    "reload(sys)\n",
    "sys.setdefaultencoding('utf-8')\n",
    "\n",
    "city = {\"北京\": \"110100\", \"天津\": \"120100\", \"上海\": \"310100\", \"南京\": \"320100\", \"武汉\": \"420100\", \"杭州\": \"330100\", \"广州\": \"440100\",\n",
    "        \"深圳\": \"440300\", \"重庆\": \"500100\", \"成都\": \"510100\", \"西安\": \"610100\"}\n",
    "\n",
    "sql = \"insert into `yehao_test`.`choice_city_resource` (`city_code`, `flag_type`, `create_time`, `object_id`, `resource_type`) values \"\n",
    "workbook = xlrd.open_workbook(\"/Users/yehao/Desktop/mainpagerecommend.xlsx\")\n",
    "\n",
    "\n"
   ]
  },
  {
   "cell_type": "code",
   "execution_count": 2,
   "metadata": {},
   "outputs": [],
   "source": [
    "print workbook.sheet_loaded(\"北京\")\n",
    "def loadData(name):\n",
    "    if workbook.sheet_loaded(name):\n",
    "        worksheet = workbook.sheet_by_name(name)\n",
    "        nrows = worksheet.nrows\n",
    "        ncols = worksheet.ncols\n",
    "        \n",
    "        tsql = sql\n",
    "        cityCode = city.get(name)\n",
    "        print worksheet.name, nrows, ncols, cityCode\n",
    "        for curr in xrange(1, nrows):\n",
    "            rows = worksheet.row_values(curr)\n",
    "            if rows:\n",
    "                if cityCode:\n",
    "                    if rows is '' or str(rows[4]) is '' or str(rows[4]) == 'ID':\n",
    "                        continue;\n",
    "                    #pdb.set_trace()\n",
    "                    if curr == nrows - 1:\n",
    "                        val = \"\".join(\"('\" + cityCode + \"','1','\" + str(time.strftime(\"%Y-%m-%d %H:%M:%S\", time.localtime())) \n",
    "                                      + \"','\" + str(rows[4]) + \"','\" + '1' + \"');\\n\")\n",
    "                    else:\n",
    "                        val = \"\".join(\"('\" + cityCode + \"','1','\" + str(time.strftime(\"%Y-%m-%d %H:%M:%S\", time.localtime())) \n",
    "                                      + \"','\" + str(rows[4]) + \"','\" + '1' + \"'),\")\n",
    "    \n",
    "            if val.strip() != \"\":\n",
    "                #print val\n",
    "                tsql = tsql + val\n",
    "        #print tsql\n",
    "        if tsql.endswith(\",\"):\n",
    "            tsql = tsql.strip(',') + \";\\n\"\n",
    "        return tsql"
   ]
  },
  {
   "cell_type": "code",
   "execution_count": 3,
   "metadata": {},
   "outputs": [],
   "source": [
    "names = workbook.sheet_names()"
   ]
  },
  {
   "cell_type": "code",
   "execution_count": 4,
   "metadata": {},
   "outputs": [],
   "source": [
    "fileName = '/Users/yehao/Desktop/yimei_data_sql.sql'\n",
    "with open(fileName,'w') as f: # 如果filename不存在会自动创建， 'w'表示写数据，写之前会清空文件中的原有数据！\n",
    "    for s in names:\n",
    "        print s\n",
    "        if(workbook.sheet_loaded(s)):\n",
    "            curStr = loadData(str(s))\n",
    "            #print curStr\n",
    "            f.write(str(curStr))\n",
    "        else:\n",
    "            print k + \"没有数据存在\"\n",
    "    \n",
    "    print \"end\""
   ]
  },
  {
   "cell_type": "code",
   "execution_count": null,
   "metadata": {},
   "outputs": [],
   "source": []
  }
 ],
 "metadata": {
  "kernelspec": {
   "display_name": "Python 2",
   "language": "python",
   "name": "python2"
  },
  "language_info": {
   "codemirror_mode": {
    "name": "ipython",
    "version": 2
   },
   "file_extension": ".py",
   "mimetype": "text/x-python",
   "name": "python",
   "nbconvert_exporter": "python",
   "pygments_lexer": "ipython2",
   "version": "2.7.10"
  }
 },
 "nbformat": 4,
 "nbformat_minor": 2
}
